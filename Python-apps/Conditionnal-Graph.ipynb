{
 "cells": [
  {
   "cell_type": "markdown",
   "id": "0711bc3d",
   "metadata": {},
   "source": [
    "# use conditional edge to control the flow"
   ]
  },
  {
   "cell_type": "code",
   "execution_count": 1,
   "id": "7cb14f6a",
   "metadata": {},
   "outputs": [],
   "source": [
    "from typing import TypedDict\n",
    "from langgraph.graph import StateGraph, START, END "
   ]
  },
  {
   "cell_type": "code",
   "execution_count": 2,
   "id": "23bc73ff",
   "metadata": {},
   "outputs": [],
   "source": [
    "class AgentState(TypedDict):\n",
    "    number1: int\n",
    "    operation: str\n",
    "    number2: int\n",
    "    finalnumber: int"
   ]
  },
  {
   "cell_type": "code",
   "execution_count": 5,
   "id": "e4965914",
   "metadata": {},
   "outputs": [],
   "source": [
    "def adder(state: AgentState) -> AgentState:\n",
    "    \"\"\"Add two numbers.\"\"\"\n",
    "    state['finalnumber'] = state['number1'] + state['number2']\n",
    "    return state\n",
    "\n",
    "def subtractor(state: AgentState) -> AgentState:\n",
    "    \"\"\"Subtract two numbers.\"\"\"\n",
    "    state['finalnumber'] = state['number1'] - state['number2']\n",
    "    return state\n",
    "\n",
    "def decide_next_node(state: AgentState) -> AgentState:\n",
    "    \"\"\"this node will select the next node of the graph\"\"\"\n",
    "    if state['operation'] == '+':\n",
    "        return \"addition\"\n",
    "    elif state['operation'] == '-':\n",
    "        return \"subtraction\""
   ]
  },
  {
   "cell_type": "code",
   "execution_count": 6,
   "id": "a7d3e278",
   "metadata": {},
   "outputs": [],
   "source": [
    "graph = StateGraph(AgentState)\n",
    "\n",
    "graph.add_node(\"add_node\", adder)\n",
    "graph.add_node(\"subtract_node\", subtractor)\n",
    "graph.add_node(\"router\", lambda state: state) #passthrough function\n",
    "\n",
    "graph.add_edge(START, \"router\")\n",
    "graph.add_conditional_edges(\"router\", \n",
    "    decide_next_node, \n",
    "    {\n",
    "        #\"edge\": \"node\"\n",
    "        \"addition\": \"add_node\",\n",
    "        \"subtraction\": \"subtract_node\"\n",
    "    }\n",
    ")\n",
    "\n",
    "graph.add_edge(\"add_node\", END)\n",
    "graph.add_edge(\"subtract_node\", END)\n",
    "\n",
    "app = graph.compile()"
   ]
  },
  {
   "cell_type": "code",
   "execution_count": 7,
   "id": "563988ad",
   "metadata": {},
   "outputs": [
    {
     "data": {
      "image/png": "[encoded data removed]",
      "text/plain": [
       "<IPython.core.display.Image object>"
      ]
     },
     "metadata": {},
     "output_type": "display_data"
    }
   ],
   "source": [
    "from IPython.display import Image, display\n",
    "display(Image(app.get_graph().draw_mermaid_png()))"
   ]
  },
  {
   "cell_type": "code",
   "execution_count": 10,
   "id": "3e23f2cf",
   "metadata": {},
   "outputs": [
    {
     "name": "stdout",
     "output_type": "stream",
     "text": [
      "{'number1': 10, 'operation': '+', 'number2': 4, 'finalnumber': 14}\n"
     ]
    }
   ],
   "source": [
    "inital_state_1 = AgentState(number1= 10, operation= \"+\", number2 = 4)\n",
    "print(app.invoke(inital_state_1))"
   ]
  },
  {
   "cell_type": "code",
   "execution_count": null,
   "id": "d27faabe",
   "metadata": {},
   "outputs": [],
   "source": []
  }
 ],
 "metadata": {
  "kernelspec": {
   "display_name": ".venv",
   "language": "python",
   "name": "python3"
  },
  "language_info": {
   "codemirror_mode": {
    "name": "ipython",
    "version": 3
   },
   "file_extension": ".py",
   "mimetype": "text/x-python",
   "name": "python",
   "nbconvert_exporter": "python",
   "pygments_lexer": "ipython3",
   "version": "3.11.9"
  }
 },
 "nbformat": 4,
 "nbformat_minor": 5
}
