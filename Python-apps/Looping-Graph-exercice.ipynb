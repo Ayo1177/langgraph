{
 "cells": [
  {
   "cell_type": "code",
   "execution_count": 3,
   "id": "c918794b",
   "metadata": {},
   "outputs": [],
   "source": [
    "from typing import TypedDict\n",
    "import random\n",
    "from langgraph.graph import StateGraph, START, END"
   ]
  },
  {
   "cell_type": "code",
   "execution_count": null,
   "id": "e53685a7",
   "metadata": {},
   "outputs": [],
   "source": [
    "class gamestate(TypedDict):\n",
    "    player_name: str\n",
    "    target_number: int\n",
    "    guesses: list[int]\n",
    "    attempts: int\n",
    "    hint: str\n",
    "    lower_bound: int\n",
    "    upper_bound: int"
   ]
  },
  {
   "cell_type": "code",
   "execution_count": 5,
   "id": "07619c4e",
   "metadata": {},
   "outputs": [],
   "source": [
    "def setup_node(state: gamestate) -> gamestate:\n",
    "    \"\"\"Initializes the game with a random target number\"\"\"\n",
    "    state[\"player_name\"] = f\"welcome, {state['player_name']}!\"\n",
    "    state[\"target_number\"] = random.randint(1, 20)\n",
    "    state[\"guesses\"] = []\n",
    "    state[\"attempts\"] = 0\n",
    "    state[\"hint\"] = \"game statred try to guess the number\"\n",
    "    state[\"lower_bound\"] = 1\n",
    "    state[\"upper_bound\"] =20\n",
    "    print(f\"{state['player_name']} the game has begun try to think of a number between 1 and 20\")\n",
    "    return state"
   ]
  },
  {
   "cell_type": "code",
   "execution_count": 7,
   "id": "54b4212c",
   "metadata": {},
   "outputs": [],
   "source": [
    "def guess_node(state: gamestate) -> gamestate:\n",
    "    \"\"\"Generate a smarter guess based on previous hints\"\"\"\n",
    "    \n",
    "    possible_guesses = [i for i in range(state[\"lower_bound\"], state[\"upper_bound\"] + 1) if i not in state[\"guesses\"]]\n",
    "    if possible_guesses:\n",
    "        guess = random.choice(possible_guesses)\n",
    "    else:\n",
    "        \n",
    "        guess = random.randint(state[\"lower_bound\"], state[\"upper_bound\"])\n",
    "    \n",
    "    state[\"guesses\"].append(guess)\n",
    "    state[\"attempts\"] += 1\n",
    "    print(f\"Attempt {state['attempts']}: Guessing {guess} (Current range: {state['lower_bound']}-{state['upper_bound']})\")\n",
    "    return state"
   ]
  },
  {
   "cell_type": "code",
   "execution_count": 10,
   "id": "2bf2ac86",
   "metadata": {},
   "outputs": [],
   "source": [
    "def hint_node(state: gamestate) -> gamestate:\n",
    "    \"\"\"gives hint based on the prvious guess\"\"\"\n",
    "\n",
    "    latest_guess = state[\"guesses\"][-1]\n",
    "    target = state[\"target_number\"]\n",
    "\n",
    "    if latest_guess < target:\n",
    "        state[\"hint\"] = f\"the number {latest_guess} is too low, try higher!\"\n",
    "\n",
    "        state[\"lower_bound\"] = max(state[\"lower_bound\"], latest_guess + 1)\n",
    "        print(f\"hint: {state['hint']}\")\n",
    "\n",
    "    elif latest_guess < target:\n",
    "        state[\"hint\"] = f\"the number {latest_guess} is too hight, try lower!\"\n",
    "\n",
    "        state[\"upper_bound\"] = min(latest_guess - 1, state[\"upper_bound\"])\n",
    "        print(f\"hint: {state['hint']}\")\n",
    "\n",
    "    else:\n",
    "        state['hint'] = f\"you're correct! the number {target} in {state['attempts']} attempts\"\n",
    "        print(f\"hint: {state['hint']}\")\n",
    "\n",
    "    return state  \n",
    "\n"
   ]
  },
  {
   "cell_type": "code",
   "execution_count": 11,
   "id": "ba5b2069",
   "metadata": {},
   "outputs": [],
   "source": [
    "def should_continue(state: gamestate) -> gamestate:\n",
    "    \"\"\"determines if we should continue gessing or end the game\"\"\"\n",
    "\n",
    "    target = state[\"target_number\"]\n",
    "    latest_guess = state[\"guesses\"][-1]\n",
    "    if target == latest_guess:\n",
    "        return \"end game\"\n",
    "    elif state[\"attempts\"] >= 7:\n",
    "        return \"end game\"\n",
    "    else:\n",
    "        return \"continue\""
   ]
  },
  {
   "cell_type": "code",
   "execution_count": 13,
   "id": "60c4f21e",
   "metadata": {},
   "outputs": [],
   "source": [
    "graph = StateGraph(gamestate)\n",
    "\n",
    "graph.add_node(\"setup\", setup_node)\n",
    "graph.add_node(\"guess\", guess_node)\n",
    "graph.add_node(\"hints\", hint_node)\n",
    "\n",
    "graph.add_edge(\"setup\", \"guess\")\n",
    "graph.add_edge(\"guess\", \"hints\")\n",
    "graph.add_conditional_edges(\"hints\",\n",
    "should_continue,\n",
    "{\n",
    "    \"continue\": \"guess\",\n",
    "    \"end game\": END\n",
    "}\n",
    "\n",
    ")\n",
    "\n",
    "graph.set_entry_point(\"setup\")\n",
    "app = graph.compile()"
   ]
  },
  {
   "cell_type": "code",
   "execution_count": 14,
   "id": "0b6bc819",
   "metadata": {},
   "outputs": [
    {
     "data": {
      "image/png": "[encoded data removed]",
      "text/plain": [
       "<IPython.core.display.Image object>"
      ]
     },
     "metadata": {},
     "output_type": "display_data"
    }
   ],
   "source": [
    "from IPython.display import Image, display\n",
    "display(Image(app.get_graph().draw_mermaid_png()))"
   ]
  },
  {
   "cell_type": "code",
   "execution_count": 15,
   "id": "41d21406",
   "metadata": {},
   "outputs": [
    {
     "name": "stdout",
     "output_type": "stream",
     "text": [
      "welcome, Student! the game has begun try to think of a number between 1 and 20\n",
      "Attempt 1: Guessing 4 (Current range: 1-20)\n",
      "hint: the number 4 is too low, try higher!\n",
      "Attempt 2: Guessing 19 (Current range: 5-20)\n",
      "hint: you're correct! the number 10 in 2 attempts\n",
      "Attempt 3: Guessing 15 (Current range: 5-20)\n",
      "hint: you're correct! the number 10 in 3 attempts\n",
      "Attempt 4: Guessing 12 (Current range: 5-20)\n",
      "hint: you're correct! the number 10 in 4 attempts\n",
      "Attempt 5: Guessing 11 (Current range: 5-20)\n",
      "hint: you're correct! the number 10 in 5 attempts\n",
      "Attempt 6: Guessing 7 (Current range: 5-20)\n",
      "hint: the number 7 is too low, try higher!\n",
      "Attempt 7: Guessing 18 (Current range: 8-20)\n",
      "hint: you're correct! the number 10 in 7 attempts\n"
     ]
    }
   ],
   "source": [
    "\n",
    "result = app.invoke({\"player_name\": \"Student\", \"guesses\": [], \"attempts\": 0, \"lower_bound\": 1, \"upper_bound\": 20})"
   ]
  },
  {
   "cell_type": "code",
   "execution_count": null,
   "id": "37b004b4",
   "metadata": {},
   "outputs": [],
   "source": []
  }
 ],
 "metadata": {
  "kernelspec": {
   "display_name": ".venv",
   "language": "python",
   "name": "python3"
  },
  "language_info": {
   "codemirror_mode": {
    "name": "ipython",
    "version": 3
   },
   "file_extension": ".py",
   "mimetype": "text/x-python",
   "name": "python",
   "nbconvert_exporter": "python",
   "pygments_lexer": "ipython3",
   "version": "3.11.9"
  }
 },
 "nbformat": 4,
 "nbformat_minor": 5
}
