{
 "cells": [
  {
   "cell_type": "markdown",
   "id": "1d863897",
   "metadata": {},
   "source": [
    "# Handle multiple nodes"
   ]
  },
  {
   "cell_type": "code",
   "execution_count": 1,
   "id": "4c9e01db",
   "metadata": {},
   "outputs": [],
   "source": [
    "from typing import TypedDict\n",
    "from langgraph.graph import StateGraph"
   ]
  },
  {
   "cell_type": "code",
   "execution_count": 2,
   "id": "2eb47d91",
   "metadata": {},
   "outputs": [],
   "source": [
    "class AgentState(TypedDict):\n",
    "    name: str\n",
    "    age: str\n",
    "    final: str\n",
    "    "
   ]
  },
  {
   "cell_type": "code",
   "execution_count": 4,
   "id": "89a0bfc4",
   "metadata": {},
   "outputs": [],
   "source": [
    "def first_node(state: AgentState) -> AgentState:\n",
    "    \"\"\"This is the first node of the graph\"\"\"\n",
    "    state[\"final\"] = f\"hi {state['name']}\"\n",
    "    return state\n",
    "\n",
    "\n",
    "def second_node(state: AgentState) -> AgentState:\n",
    "    \"\"\"This is the second node of our sequence\"\"\"\n",
    "    state['final'] = state['final'] + f\" You are {state['age']} years old!\"\n",
    "    return state\n",
    "\n"
   ]
  },
  {
   "cell_type": "code",
   "execution_count": 5,
   "id": "8194099f",
   "metadata": {},
   "outputs": [],
   "source": [
    "graph = StateGraph(AgentState)"
   ]
  },
  {
   "cell_type": "markdown",
   "id": "0cc9f4ca",
   "metadata": {},
   "source": [
    "### creating the graph with the edges between the nodes"
   ]
  },
  {
   "cell_type": "code",
   "execution_count": 6,
   "id": "b361fc78",
   "metadata": {},
   "outputs": [
    {
     "data": {
      "text/plain": [
       "<langgraph.graph.state.StateGraph at 0x1e0f0086a50>"
      ]
     },
     "execution_count": 6,
     "metadata": {},
     "output_type": "execute_result"
    }
   ],
   "source": [
    "graph.add_node(\"firstnode\", first_node)\n",
    "graph.add_node(\"secondnode\", second_node)\n",
    "\n",
    "graph.set_entry_point(\"firstnode\")\n",
    "#add the egde\n",
    "graph.add_edge(\"firstnode\", \"secondnode\")\n",
    "\n",
    "graph.set_finish_point(\"secondnode\")"
   ]
  },
  {
   "cell_type": "code",
   "execution_count": 7,
   "id": "a6f1511e",
   "metadata": {},
   "outputs": [],
   "source": [
    "app = graph.compile()"
   ]
  },
  {
   "cell_type": "code",
   "execution_count": 9,
   "id": "a0a9af86",
   "metadata": {},
   "outputs": [
    {
     "data": {
      "image/png": "[encoded data removed]",
      "text/plain": [
       "<IPython.core.display.Image object>"
      ]
     },
     "metadata": {},
     "output_type": "display_data"
    }
   ],
   "source": [
    "from IPython.display import Image\n",
    "display(Image(app.get_graph().draw_mermaid_png())) "
   ]
  },
  {
   "cell_type": "code",
   "execution_count": null,
   "id": "7d70b78d",
   "metadata": {},
   "outputs": [
    {
     "name": "stdout",
     "output_type": "stream",
     "text": [
      "{'name': 'charlie', 'age': 20, 'final': 'hi charlie You are 20 years old!'}\n"
     ]
    }
   ],
   "source": [
    "result = app.invoke({\"name\":\"charlie\", \"age\":20})\n",
    "print(result) "
   ]
  },
  {
   "cell_type": "code",
   "execution_count": null,
   "id": "6dc7330d",
   "metadata": {},
   "outputs": [],
   "source": []
  }
 ],
 "metadata": {
  "kernelspec": {
   "display_name": ".venv",
   "language": "python",
   "name": "python3"
  },
  "language_info": {
   "codemirror_mode": {
    "name": "ipython",
    "version": 3
   },
   "file_extension": ".py",
   "mimetype": "text/x-python",
   "name": "python",
   "nbconvert_exporter": "python",
   "pygments_lexer": "ipython3",
   "version": "3.11.9"
  }
 },
 "nbformat": 4,
 "nbformat_minor": 5
}
